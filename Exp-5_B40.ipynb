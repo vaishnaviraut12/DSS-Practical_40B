{
 "cells": [
  {
   "cell_type": "markdown",
   "id": "f2657b91",
   "metadata": {},
   "source": [
    "# Creation of arrary using Numpy"
   ]
  },
  {
   "cell_type": "code",
   "execution_count": 1,
   "id": "727dd932",
   "metadata": {},
   "outputs": [],
   "source": [
    "#Exp no:05"
   ]
  },
  {
   "cell_type": "code",
   "execution_count": 2,
   "id": "41e27be6",
   "metadata": {},
   "outputs": [],
   "source": [
    "#Aim: Creation of arrary using Numpy"
   ]
  },
  {
   "cell_type": "code",
   "execution_count": 1,
   "id": "9e7e8968",
   "metadata": {},
   "outputs": [],
   "source": [
    "#Name : Vaishnavi Purushottam Raut\n",
    "#Roll no. 40\n",
    "#Section : 3B\n",
    "#Date : 02/08/2024"
   ]
  },
  {
   "cell_type": "code",
   "execution_count": 3,
   "id": "b78e3145",
   "metadata": {},
   "outputs": [],
   "source": [
    "import numpy as np"
   ]
  },
  {
   "cell_type": "code",
   "execution_count": 4,
   "id": "889e801a",
   "metadata": {},
   "outputs": [],
   "source": [
    "x=np.array([10,30,50,70,90])"
   ]
  },
  {
   "cell_type": "code",
   "execution_count": 5,
   "id": "bd2bd6ee",
   "metadata": {},
   "outputs": [
    {
     "data": {
      "text/plain": [
       "array([10, 30, 50, 70, 90])"
      ]
     },
     "execution_count": 5,
     "metadata": {},
     "output_type": "execute_result"
    }
   ],
   "source": [
    "x"
   ]
  },
  {
   "cell_type": "code",
   "execution_count": 6,
   "id": "e38a1680",
   "metadata": {},
   "outputs": [],
   "source": [
    "x2=np.array([[10,30,50,70,90],[20,40,60,80,100]])"
   ]
  },
  {
   "cell_type": "code",
   "execution_count": 7,
   "id": "f5fd76e0",
   "metadata": {},
   "outputs": [
    {
     "data": {
      "text/plain": [
       "array([[ 10,  30,  50,  70,  90],\n",
       "       [ 20,  40,  60,  80, 100]])"
      ]
     },
     "execution_count": 7,
     "metadata": {},
     "output_type": "execute_result"
    }
   ],
   "source": [
    "x2"
   ]
  },
  {
   "cell_type": "code",
   "execution_count": 8,
   "id": "eb4ef2c6",
   "metadata": {},
   "outputs": [],
   "source": [
    "x3=np.array([[10,30,50,70,90],[20,40,60,80,100],[15,25,35,45,55]])"
   ]
  },
  {
   "cell_type": "code",
   "execution_count": 9,
   "id": "bdb33109",
   "metadata": {},
   "outputs": [
    {
     "data": {
      "text/plain": [
       "array([[ 10,  30,  50,  70,  90],\n",
       "       [ 20,  40,  60,  80, 100],\n",
       "       [ 15,  25,  35,  45,  55]])"
      ]
     },
     "execution_count": 9,
     "metadata": {},
     "output_type": "execute_result"
    }
   ],
   "source": [
    "x3"
   ]
  }
 ],
 "metadata": {
  "kernelspec": {
   "display_name": "Python 3 (ipykernel)",
   "language": "python",
   "name": "python3"
  },
  "language_info": {
   "codemirror_mode": {
    "name": "ipython",
    "version": 3
   },
   "file_extension": ".py",
   "mimetype": "text/x-python",
   "name": "python",
   "nbconvert_exporter": "python",
   "pygments_lexer": "ipython3",
   "version": "3.11.5"
  }
 },
 "nbformat": 4,
 "nbformat_minor": 5
}
