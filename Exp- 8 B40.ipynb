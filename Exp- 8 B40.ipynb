{
 "cells": [
  {
   "cell_type": "markdown",
   "id": "2c2de464",
   "metadata": {},
   "source": [
    "# Central Tendancy of Measures mean,median,mode"
   ]
  },
  {
   "cell_type": "code",
   "execution_count": 1,
   "id": "60be71e8",
   "metadata": {},
   "outputs": [],
   "source": [
    "#Exp no.:8"
   ]
  },
  {
   "cell_type": "code",
   "execution_count": 1,
   "id": "72a37f76",
   "metadata": {},
   "outputs": [],
   "source": [
    "#Name : Vaishnavi Purushottam Raut\n",
    "#Roll no. 40\n",
    "#Section : 3B\n",
    "#Date : 01/08/2024"
   ]
  },
  {
   "cell_type": "code",
   "execution_count": 2,
   "id": "fa9729d3",
   "metadata": {},
   "outputs": [],
   "source": [
    "#Aim : to perform central tendancy of measures"
   ]
  },
  {
   "cell_type": "code",
   "execution_count": 3,
   "id": "50b24482",
   "metadata": {},
   "outputs": [],
   "source": [
    "Age=[21,20,22,22,20,21,22,20,21,21,21,20,22,20,20,21,22,22,22,21,20]"
   ]
  },
  {
   "cell_type": "code",
   "execution_count": 4,
   "id": "8579566f",
   "metadata": {},
   "outputs": [
    {
     "data": {
      "text/plain": [
       "[21,\n",
       " 20,\n",
       " 22,\n",
       " 22,\n",
       " 20,\n",
       " 21,\n",
       " 22,\n",
       " 20,\n",
       " 21,\n",
       " 21,\n",
       " 21,\n",
       " 20,\n",
       " 22,\n",
       " 20,\n",
       " 20,\n",
       " 21,\n",
       " 22,\n",
       " 22,\n",
       " 22,\n",
       " 21,\n",
       " 20]"
      ]
     },
     "execution_count": 4,
     "metadata": {},
     "output_type": "execute_result"
    }
   ],
   "source": [
    "Age"
   ]
  },
  {
   "cell_type": "code",
   "execution_count": 5,
   "id": "7866a13a",
   "metadata": {},
   "outputs": [],
   "source": [
    "import statistics"
   ]
  },
  {
   "cell_type": "code",
   "execution_count": 6,
   "id": "05732463",
   "metadata": {},
   "outputs": [],
   "source": [
    "Mean=statistics.mean(Age)"
   ]
  },
  {
   "cell_type": "code",
   "execution_count": 7,
   "id": "e585c165",
   "metadata": {},
   "outputs": [
    {
     "data": {
      "text/plain": [
       "21"
      ]
     },
     "execution_count": 7,
     "metadata": {},
     "output_type": "execute_result"
    }
   ],
   "source": [
    "Mean"
   ]
  },
  {
   "cell_type": "code",
   "execution_count": 10,
   "id": "b45733cd",
   "metadata": {},
   "outputs": [],
   "source": [
    "Median=statistics.median(Age)"
   ]
  },
  {
   "cell_type": "code",
   "execution_count": 11,
   "id": "f5e1b20c",
   "metadata": {},
   "outputs": [
    {
     "data": {
      "text/plain": [
       "21"
      ]
     },
     "execution_count": 11,
     "metadata": {},
     "output_type": "execute_result"
    }
   ],
   "source": [
    "Median"
   ]
  },
  {
   "cell_type": "code",
   "execution_count": 12,
   "id": "8b4ae7df",
   "metadata": {},
   "outputs": [],
   "source": [
    "Mode=statistics.mode(Age)"
   ]
  },
  {
   "cell_type": "code",
   "execution_count": 13,
   "id": "d1cee4e6",
   "metadata": {},
   "outputs": [
    {
     "data": {
      "text/plain": [
       "21"
      ]
     },
     "execution_count": 13,
     "metadata": {},
     "output_type": "execute_result"
    }
   ],
   "source": [
    "Mode"
   ]
  }
 ],
 "metadata": {
  "kernelspec": {
   "display_name": "Python 3 (ipykernel)",
   "language": "python",
   "name": "python3"
  },
  "language_info": {
   "codemirror_mode": {
    "name": "ipython",
    "version": 3
   },
   "file_extension": ".py",
   "mimetype": "text/x-python",
   "name": "python",
   "nbconvert_exporter": "python",
   "pygments_lexer": "ipython3",
   "version": "3.11.5"
  }
 },
 "nbformat": 4,
 "nbformat_minor": 5
}
